{
 "cells": [
  {
   "cell_type": "code",
   "execution_count": 5,
   "metadata": {},
   "outputs": [],
   "source": [
    "import csv\n",
    "import glob\n",
    "\n",
    "def split_and_clean_text(filename):\n",
    "    with open(filename, \"r\", encoding=\"utf-8\") as f:\n",
    "        text = f.read()\n",
    "\n",
    "    # 使用中文句号和换行符进行分割\n",
    "    parts = text.replace('\\n', '。').split('。')\n",
    "    # 清除每个部分中的空格和换行符\n",
    "    parts = [part.strip() for part in parts if part.strip() != '']\n",
    "    return parts\n",
    "\n",
    "def append_parts_to_csv(filename, parts, output_filename=\"output.csv\"):\n",
    "    # 移除文件名中的路径和.txt扩展名\n",
    "    filename_no_ext = filename.split('/')[-1].replace('.txt', '')\n",
    "    \n",
    "    with open(output_filename, \"a\", newline='', encoding=\"utf-8\") as f:\n",
    "        writer = csv.writer(f)\n",
    "        for part in parts:\n",
    "            writer.writerow([filename_no_ext, part])  # 使用无扩展名的文件名和文本内容\n",
    "\n",
    "def process_all_txt_files():\n",
    "    # 遍历当前文件夹中的所有.txt文件\n",
    "    for txt_file in glob.glob('*.txt'):\n",
    "        # 处理文本\n",
    "        split_text = split_and_clean_text(txt_file)\n",
    "        # 输出到CSV文件\n",
    "        append_parts_to_csv(txt_file, split_text)\n",
    "\n",
    "# 处理当前文件夹中的所有.txt文件\n",
    "process_all_txt_files()\n"
   ]
  },
  {
   "cell_type": "code",
   "execution_count": null,
   "metadata": {},
   "outputs": [],
   "source": []
  }
 ],
 "metadata": {
  "kernelspec": {
   "display_name": "Python 3",
   "language": "python",
   "name": "python3"
  },
  "language_info": {
   "codemirror_mode": {
    "name": "ipython",
    "version": 3
   },
   "file_extension": ".py",
   "mimetype": "text/x-python",
   "name": "python",
   "nbconvert_exporter": "python",
   "pygments_lexer": "ipython3",
   "version": "3.8.5"
  }
 },
 "nbformat": 4,
 "nbformat_minor": 4
}
